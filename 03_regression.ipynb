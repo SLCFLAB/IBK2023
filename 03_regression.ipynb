{
  "cells": [
    {
      "cell_type": "markdown",
      "metadata": {
        "id": "view-in-github",
        "colab_type": "text"
      },
      "source": [
        "<a href=\"https://colab.research.google.com/github/SLCFLAB/IBK2023/blob/main/03_regression.ipynb\" target=\"_parent\"><img src=\"https://colab.research.google.com/assets/colab-badge.svg\" alt=\"Open In Colab\"/></a>"
      ]
    },
    {
      "cell_type": "code",
      "execution_count": null,
      "metadata": {
        "id": "iLw9sByHw8-a"
      },
      "outputs": [],
      "source": [
        "import numpy as np\n",
        "import os\n",
        "%matplotlib inline\n",
        "import matplotlib as mpl\n",
        "import matplotlib.pyplot as plt\n",
        "import pandas as pd"
      ]
    },
    {
      "cell_type": "markdown",
      "metadata": {
        "id": "epXTezP9gqjM"
      },
      "source": [
        "# Regression"
      ]
    },
    {
      "cell_type": "code",
      "execution_count": null,
      "metadata": {
        "id": "ldp9qVECOyRD"
      },
      "outputs": [],
      "source": [
        "X = 2 * np.random.rand(100, 1)\n",
        "y = 4 + 3 * X + np.random.randn(100, 1)"
      ]
    },
    {
      "cell_type": "code",
      "execution_count": null,
      "metadata": {
        "colab": {
          "base_uri": "https://localhost:8080/",
          "height": 287
        },
        "id": "-N8V-gpZOyRD",
        "outputId": "8fb9e581-aea3-43ec-bd39-0127508e0e3c"
      },
      "outputs": [
        {
          "data": {
            "image/png": "[encoded data removed]",
            "text/plain": [
              "<Figure size 432x288 with 1 Axes>"
            ]
          },
          "metadata": {
            "needs_background": "light"
          },
          "output_type": "display_data"
        }
      ],
      "source": [
        "plt.plot(X, y, \"b.\")\n",
        "plt.xlabel(\"$x_1$\", fontsize=18)\n",
        "plt.ylabel(\"$y$\", rotation=0, fontsize=18)\n",
        "plt.axis([0, 2, 0, 15])\n",
        "plt.show()"
      ]
    },
    {
      "cell_type": "code",
      "execution_count": null,
      "metadata": {
        "colab": {
          "base_uri": "https://localhost:8080/"
        },
        "id": "ZWg9eRX7grco",
        "outputId": "ef5ed574-8920-4a11-c955-a10d0a64e4af"
      },
      "outputs": [
        {
          "data": {
            "text/plain": [
              "LinearRegression()"
            ]
          },
          "execution_count": 4,
          "metadata": {},
          "output_type": "execute_result"
        }
      ],
      "source": [
        "from sklearn.linear_model import LinearRegression\n",
        "\n",
        "lin_reg = LinearRegression()\n",
        "lin_reg.fit(X, y)"
      ]
    },
    {
      "cell_type": "code",
      "execution_count": null,
      "metadata": {
        "colab": {
          "base_uri": "https://localhost:8080/"
        },
        "id": "EYdid24tOyRE",
        "outputId": "bc4b9988-ea02-49f3-edbf-e020a951a920",
        "scrolled": false
      },
      "outputs": [
        {
          "data": {
            "text/plain": [
              "(array([3.88790513]), array([[2.99206759]]))"
            ]
          },
          "execution_count": 5,
          "metadata": {},
          "output_type": "execute_result"
        }
      ],
      "source": [
        "lin_reg.intercept_, lin_reg.coef_"
      ]
    },
    {
      "cell_type": "code",
      "execution_count": null,
      "metadata": {
        "colab": {
          "base_uri": "https://localhost:8080/"
        },
        "id": "N5B2fTJrOyRE",
        "outputId": "1bc6412b-85e4-405e-c6e4-d98b953aa02b",
        "scrolled": true
      },
      "outputs": [
        {
          "data": {
            "text/plain": [
              "LinearRegression()"
            ]
          },
          "execution_count": 7,
          "metadata": {},
          "output_type": "execute_result"
        }
      ],
      "source": [
        "from sklearn.linear_model import LinearRegression\n",
        "\n",
        "lin_reg = LinearRegression()\n",
        "lin_reg.fit(X, y)"
      ]
    },
    {
      "cell_type": "code",
      "execution_count": null,
      "metadata": {
        "colab": {
          "base_uri": "https://localhost:8080/"
        },
        "id": "h1Pi_SUoOyRF",
        "outputId": "c49ad706-a24a-4b56-9d31-5205d42f795c"
      },
      "outputs": [
        {
          "data": {
            "text/plain": [
              "0.7445311620379271"
            ]
          },
          "execution_count": 8,
          "metadata": {},
          "output_type": "execute_result"
        }
      ],
      "source": [
        "lin_reg.score(X,y) #R sqaure"
      ]
    },
    {
      "cell_type": "code",
      "execution_count": null,
      "metadata": {
        "id": "SF0rXHbVOyRF"
      },
      "outputs": [],
      "source": [
        "def adjust_R2(model,X,y):\n",
        "    return (1 - (1-model.score(X, y))*(len(y)-1)/(len(y)-X.shape[1]-1))"
      ]
    },
    {
      "cell_type": "code",
      "execution_count": null,
      "metadata": {
        "colab": {
          "base_uri": "https://localhost:8080/"
        },
        "id": "hOTyOZw2OyRF",
        "outputId": "3878ebe0-3a2d-499e-b5bc-b887f6d3f829"
      },
      "outputs": [
        {
          "data": {
            "text/plain": [
              "0.7419243371607631"
            ]
          },
          "execution_count": 10,
          "metadata": {},
          "output_type": "execute_result"
        }
      ],
      "source": [
        "adjust_R2(lin_reg,X,y) #adust R square"
      ]
    },
    {
      "cell_type": "markdown",
      "metadata": {
        "id": "kk5m-bVTOyRG"
      },
      "source": [
        "## prediction"
      ]
    },
    {
      "cell_type": "code",
      "execution_count": null,
      "metadata": {
        "id": "Fv2XjtamOyRG"
      },
      "outputs": [],
      "source": [
        "X_new = np.array([[0], [2]])\n"
      ]
    },
    {
      "cell_type": "code",
      "execution_count": null,
      "metadata": {
        "colab": {
          "base_uri": "https://localhost:8080/"
        },
        "id": "uLHc4ej4OyRG",
        "outputId": "99dcd2d6-aae5-466e-dcad-4d843a7e3635"
      },
      "outputs": [
        {
          "data": {
            "text/plain": [
              "array([[0],\n",
              "       [2]])"
            ]
          },
          "execution_count": 12,
          "metadata": {},
          "output_type": "execute_result"
        }
      ],
      "source": [
        "X_new"
      ]
    },
    {
      "cell_type": "code",
      "execution_count": null,
      "metadata": {
        "id": "dzjHsuuBOyRH"
      },
      "outputs": [],
      "source": [
        "y_predict = lin_reg.predict(X_new)\n"
      ]
    },
    {
      "cell_type": "code",
      "execution_count": null,
      "metadata": {
        "colab": {
          "base_uri": "https://localhost:8080/"
        },
        "id": "FFYee6eOOyRH",
        "outputId": "6b71ba00-2aff-4584-cf91-be57e757757e"
      },
      "outputs": [
        {
          "data": {
            "text/plain": [
              "array([[3.88790513],\n",
              "       [9.8720403 ]])"
            ]
          },
          "execution_count": 14,
          "metadata": {},
          "output_type": "execute_result"
        }
      ],
      "source": [
        "y_predict"
      ]
    },
    {
      "cell_type": "code",
      "execution_count": null,
      "metadata": {
        "colab": {
          "base_uri": "https://localhost:8080/",
          "height": 265
        },
        "id": "S3reXgVAOyRH",
        "outputId": "4fa157fb-f5f7-4d32-83d2-e8573454864e"
      },
      "outputs": [
        {
          "data": {
            "image/png": "[encoded data removed]",
            "text/plain": [
              "<Figure size 432x288 with 1 Axes>"
            ]
          },
          "metadata": {
            "needs_background": "light"
          },
          "output_type": "display_data"
        }
      ],
      "source": [
        "plt.plot(X_new, y_predict, \"r-\", label=\"linear\")\n",
        "plt.plot(X, y, \"y.\")\n",
        "plt.axis([0, 2, 0, 15])\n",
        "plt.show()"
      ]
    }
  ],
  "metadata": {
    "colab": {
      "provenance": [],
      "include_colab_link": true
    },
    "kernelspec": {
      "display_name": "torch1.9",
      "language": "python",
      "name": "pytorch"
    }
  },
  "nbformat": 4,
  "nbformat_minor": 0
}